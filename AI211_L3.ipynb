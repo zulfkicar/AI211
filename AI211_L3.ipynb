{
 "cells": [
  {
   "cell_type": "markdown",
   "id": "218eab00",
   "metadata": {},
   "source": [
    "# Task 1"
   ]
  },
  {
   "cell_type": "code",
   "execution_count": 1,
   "id": "4f927e5f",
   "metadata": {},
   "outputs": [],
   "source": [
    "from collections import deque\n",
    "\n",
    "def bfs(graph, start):\n",
    "    visited = set()\n",
    "    queue = deque([start])\n",
    "    visited.add(start)\n",
    "    while queue:\n",
    "        vertex = queue.popleft()\n",
    "        print(vertex, end=' ')\n",
    "        for neighbor in graph[vertex]:\n",
    "            if neighbor not in visited:\n",
    "                visited.add(neighbor)\n",
    "                queue.append(neighbor)"
   ]
  },
  {
   "cell_type": "code",
   "execution_count": 2,
   "id": "cfc7922f",
   "metadata": {},
   "outputs": [],
   "source": [
    "def dfs(graph, start, visited=None):\n",
    "    if visited is None:\n",
    "        visited = set()\n",
    "    visited.add(start)\n",
    "    print(start, end=' ')\n",
    "    for neighbor in graph[start]:\n",
    "        if neighbor not in visited:\n",
    "            dfs(graph, neighbor, visited)"
   ]
  },
  {
   "cell_type": "code",
   "execution_count": 4,
   "id": "764918f4",
   "metadata": {},
   "outputs": [],
   "source": [
    "def bfs_tree(root):\n",
    "    queue = [root]\n",
    "    while queue:\n",
    "        node = queue.pop(0)\n",
    "        print(node.val, end=' ')\n",
    "        if node.left:\n",
    "            queue.append(node.left)\n",
    "        if node.right:\n",
    "            queue.append(node.right)"
   ]
  },
  {
   "cell_type": "code",
   "execution_count": 5,
   "id": "98d3be86",
   "metadata": {},
   "outputs": [],
   "source": [
    "def dfs_tree(root):\n",
    "    if root:\n",
    "        print(root.val, end=' ')\n",
    "        dfs_tree(root.left)\n",
    "        dfs_tree(root.right)"
   ]
  },
  {
   "cell_type": "markdown",
   "id": "466718b6",
   "metadata": {},
   "source": [
    "## BFS and DFS on Graph"
   ]
  },
  {
   "cell_type": "code",
   "execution_count": 6,
   "id": "c040af7d",
   "metadata": {},
   "outputs": [
    {
     "name": "stdout",
     "output_type": "stream",
     "text": [
      "BFS: 1 2 3 4 \n",
      "DFS: 1 2 4 3 "
     ]
    }
   ],
   "source": [
    "graph = {\n",
    "    1: [2, 3],\n",
    "    2: [1, 4],\n",
    "    3: [1, 4],\n",
    "    4: [2, 3]\n",
    "}\n",
    "\n",
    "# BFS\n",
    "print(\"BFS:\", end=' ')\n",
    "bfs(graph, 1)\n",
    "\n",
    "# DFS\n",
    "print(\"\\nDFS:\", end=' ')\n",
    "dfs(graph, 1)\n"
   ]
  },
  {
   "cell_type": "markdown",
   "id": "06068424",
   "metadata": {},
   "source": [
    "## BFS and DFS on Tree"
   ]
  },
  {
   "cell_type": "code",
   "execution_count": 7,
   "id": "8bf4ca54",
   "metadata": {},
   "outputs": [
    {
     "name": "stdout",
     "output_type": "stream",
     "text": [
      "BFS: 1 2 3 4 5 6 7 \n",
      "DFS: 1 2 4 5 3 6 7 "
     ]
    }
   ],
   "source": [
    "class TreeNode:\n",
    "    def __init__(self, val=0, left=None, right=None):\n",
    "        self.val = val\n",
    "        self.left = left\n",
    "        self.right = right\n",
    "\n",
    "root = TreeNode(1)\n",
    "root.left = TreeNode(2)\n",
    "root.right = TreeNode(3)\n",
    "root.left.left = TreeNode(4)\n",
    "root.left.right = TreeNode(5)\n",
    "root.right.left = TreeNode(6)\n",
    "root.right.right = TreeNode(7)\n",
    "\n",
    "# BFS\n",
    "print(\"BFS:\", end=' ')\n",
    "bfs_tree(root)\n",
    "\n",
    "# DFS\n",
    "print(\"\\nDFS:\", end=' ')\n",
    "dfs_tree(root)\n"
   ]
  },
  {
   "cell_type": "markdown",
   "id": "d469bf77",
   "metadata": {},
   "source": [
    "# Task 2"
   ]
  },
  {
   "cell_type": "code",
   "execution_count": 16,
   "id": "e744b1ef",
   "metadata": {},
   "outputs": [
    {
     "name": "stdout",
     "output_type": "stream",
     "text": [
      "Set 1 with 1000 nodes:\n",
      "BFS time: 0.00243s, found: True\n",
      "DFS time: 0.00051s, found: True\n",
      "\n",
      "Set 2 with 40000 nodes:\n",
      "BFS time: 0.05102s, found: True\n",
      "DFS time: 0.06641s, found: True\n",
      "\n",
      "Set 3 with 80000 nodes:\n",
      "BFS time: 0.10919s, found: True\n",
      "DFS time: 0.10868s, found: True\n",
      "\n",
      "Set 4 with 200000 nodes:\n",
      "BFS time: 0.29807s, found: True\n",
      "DFS time: 0.29647s, found: True\n",
      "\n",
      "Set 5 with 1000000 nodes:\n",
      "BFS time: 0.47420s, found: True\n",
      "DFS time: 1.51020s, found: True\n",
      "\n"
     ]
    }
   ],
   "source": [
    "import random\n",
    "import time\n",
    "\n",
    "class TreeNode:\n",
    "    def __init__(self, val=0, left=None, right=None):\n",
    "        self.val = val\n",
    "        self.left = left\n",
    "        self.right = right\n",
    "\n",
    "def generate_unique_numbers(range_start, range_end, count):\n",
    "    if count > range_end - range_start:\n",
    "        raise ValueError(\"count should be less than or equal to range_end - range_start\")\n",
    "    numbers = set()\n",
    "    while len(numbers) < count:\n",
    "        numbers.add(random.randint(range_start, range_end))\n",
    "    return list(numbers)\n",
    "\n",
    "def build_tree(numbers):\n",
    "    if not numbers:\n",
    "        return None\n",
    "    mid = len(numbers) // 2\n",
    "    root = TreeNode(numbers[mid])\n",
    "    root.left = build_tree(numbers[:mid])\n",
    "    root.right = build_tree(numbers[mid+1:])\n",
    "    return root\n",
    "\n",
    "def bfs_tree(root, goal):\n",
    "    queue = deque([root])\n",
    "    visited = set()\n",
    "    visited.add(root.val)\n",
    "    while queue:\n",
    "        node = queue.popleft()\n",
    "        if node.val == goal:\n",
    "            return True\n",
    "        if node.left and node.left.val not in visited:\n",
    "            queue.append(node.left)\n",
    "            visited.add(node.left.val)\n",
    "        if node.right and node.right.val not in visited:\n",
    "            queue.append(node.right)\n",
    "            visited.add(node.right.val)\n",
    "    return False\n",
    "\n",
    "def dfs_tree(root, goal):\n",
    "    visited = set()\n",
    "    def dfs_helper(node):\n",
    "        if node is None:\n",
    "            return False\n",
    "        if node.val == goal:\n",
    "            return True\n",
    "        visited.add(node.val)\n",
    "        left_found = False\n",
    "        right_found = False\n",
    "        if node.left and node.left.val not in visited:\n",
    "            left_found = dfs_helper(node.left)\n",
    "        if node.right and node.right.val not in visited:\n",
    "            right_found = dfs_helper(node.right)\n",
    "        return left_found or right_found\n",
    "    return dfs_helper(root)\n",
    "\n",
    "ranges = [(1,1000),(1000, 40000), (40001, 80000), (80001, 200000), (200001, 1000000)]\n",
    "sizes = [1000, 40000, 80000, 200000, 1000000]\n",
    "total_len = sum(sizes)\n",
    "goal = None\n",
    "times=[]\n",
    "\n",
    "for i, r in enumerate(ranges):\n",
    "    goal_index = sizes[i] - 220\n",
    "    numbers = generate_unique_numbers(0, r[1], sizes[i])\n",
    "    root = build_tree(numbers)\n",
    "    goal = numbers[goal_index]\n",
    "    print(f\"Set {i+1} with {sizes[i]} nodes:\")\n",
    "    \n",
    "    start_time = time.time()\n",
    "    bfs_found = bfs_tree(root, goal)\n",
    "    bfs_time = time.time() - start_time\n",
    "    print(f\"BFS time: {bfs_time:.5f}s, found: {bfs_found}\")\n",
    "    \n",
    "    start_time = time.time()\n",
    "    dfs_found = dfs_tree(root, goal)\n",
    "    dfs_time = time.time() - start_time\n",
    "    print(f\"DFS time: {dfs_time:.5f}s, found: {dfs_found}\\n\")\n",
    "    \n",
    "    times.append((bfs_time,dfs_time))"
   ]
  },
  {
   "cell_type": "code",
   "execution_count": 31,
   "id": "6572aea0",
   "metadata": {},
   "outputs": [
    {
     "name": "stdout",
     "output_type": "stream",
     "text": [
      "   Tree Size  BFS Time  DFS Time\n",
      "0       1000  0.002428  0.000515\n",
      "1      40000  0.051024  0.066413\n",
      "2      80000  0.109186  0.108681\n",
      "3     200000  0.298074  0.296471\n",
      "4    1000000  0.474202  1.510200\n"
     ]
    }
   ],
   "source": [
    "import pandas as pd\n",
    "# Parsing inputs\n",
    "dfs_t=[]\n",
    "bfs_t=[]\n",
    "for i,t in enumerate(times):\n",
    "    bfs_t.append(t[0])\n",
    "    dfs_t.append(t[1])\n",
    "df = pd.DataFrame({'Tree Size': sizes, 'BFS Time': bfs_t, 'DFS Time': dfs_t})\n",
    "print(df)"
   ]
  },
  {
   "cell_type": "code",
   "execution_count": 32,
   "id": "be7af534",
   "metadata": {},
   "outputs": [
    {
     "data": {
      "image/png": "[encoded data removed]",
      "text/plain": [
       "<Figure size 640x480 with 1 Axes>"
      ]
     },
     "metadata": {},
     "output_type": "display_data"
    }
   ],
   "source": [
    "import matplotlib.pyplot as plt\n",
    "import numpy as np\n",
    "\n",
    "x_axis=np.arange(len(sizes))\n",
    "\n",
    "# Plot bar chart\n",
    "plt.bar(x_axis-0.2, bfs_t, 0.4, label='BFS')\n",
    "plt.bar(x_axis+0.2, dfs_t, 0.4, label='DFS')\n",
    "\n",
    "# Set chart title and axis labels\n",
    "plt.xticks(x_axis,sizes)\n",
    "plt.title('Time Taken for BFS and DFS Searches')\n",
    "plt.xlabel('Number of Nodes')\n",
    "plt.ylabel('Time Taken (seconds)')\n",
    "\n",
    "# Add legend\n",
    "plt.legend()\n",
    "\n",
    "# Display chart\n",
    "plt.show()\n"
   ]
  },
  {
   "cell_type": "markdown",
   "id": "ba18251a",
   "metadata": {},
   "source": [
    "# Task 3\n"
   ]
  },
  {
   "cell_type": "code",
   "execution_count": 35,
   "id": "66203508",
   "metadata": {},
   "outputs": [
    {
     "name": "stdout",
     "output_type": "stream",
     "text": [
      "\n",
      "        __1\n",
      "       /   \\\n",
      "    __2     3________\n",
      "   /   \\             \\\n",
      "  4     5          ___6\n",
      " / \\              /    \\\n",
      "7   8           _9      10______\n",
      "               /  \\             \\\n",
      "              11   12           _13\n",
      "                               /\n",
      "                             _14\n",
      "                            /\n",
      "                           15\n",
      "\n"
     ]
    }
   ],
   "source": [
    "from binarytree import Node\n",
    "\n",
    "# Create root node\n",
    "root = Node(1)\n",
    "\n",
    "# Add child nodes\n",
    "root.left = Node(2)\n",
    "root.right = Node(3)\n",
    "root.left.left = Node(4)\n",
    "root.left.right = Node(5)\n",
    "root.right.right = Node(6)\n",
    "root.left.left.left = Node(7)\n",
    "root.left.left.right = Node(8)\n",
    "root.right.right.left = Node(9)\n",
    "root.right.right.right = Node(10)\n",
    "root.right.right.left.left = Node(11)\n",
    "root.right.right.left.right = Node(12)\n",
    "root.right.right.right.right = Node(13)\n",
    "root.right.right.right.right.left = Node(14)\n",
    "root.right.right.right.right.left.left = Node(15)\n",
    "\n",
    "# Print binary tree\n",
    "print(root)\n"
   ]
  },
  {
   "cell_type": "code",
   "execution_count": 37,
   "id": "e77c869c",
   "metadata": {},
   "outputs": [
    {
     "name": "stdout",
     "output_type": "stream",
     "text": [
      "1\n",
      "├── 2\n",
      "│   ├── 4\n",
      "│   │   ├── 7\n",
      "│   │   └── 8\n",
      "│   └── 5\n",
      "└── 3\n",
      "    └── 6\n",
      "        ├── 9\n",
      "        │   ├── 11\n",
      "        │   └── 12\n",
      "        └── 10\n",
      "            └── 13\n",
      "                └── 14\n",
      "                    └── 15\n"
     ]
    }
   ],
   "source": [
    "from anytree import Node, RenderTree\n",
    "\n",
    "# Create root node\n",
    "root = Node(\"1\")\n",
    "\n",
    "# Add child nodes\n",
    "node2 = Node(\"2\", parent=root)\n",
    "node3 = Node(\"3\", parent=root)\n",
    "node4 = Node(\"4\", parent=node2)\n",
    "node5 = Node(\"5\", parent=node2)\n",
    "node6 = Node(\"6\", parent=node3)\n",
    "node7 = Node(\"7\", parent=node4)\n",
    "node8 = Node(\"8\", parent=node4)\n",
    "node9 = Node(\"9\", parent=node6)\n",
    "node10 = Node(\"10\", parent=node6)\n",
    "node11 = Node(\"11\", parent=node9)\n",
    "node12 = Node(\"12\", parent=node9)\n",
    "node13 = Node(\"13\", parent=node10)\n",
    "node14 = Node(\"14\", parent=node13)\n",
    "node15 = Node(\"15\", parent=node14)\n",
    "\n",
    "# Print binary tree\n",
    "for pre, fill, node in RenderTree(root):\n",
    "    print(\"%s%s\" % (pre, node.name))\n"
   ]
  },
  {
   "cell_type": "code",
   "execution_count": 38,
   "id": "6a044539",
   "metadata": {},
   "outputs": [
    {
     "name": "stdout",
     "output_type": "stream",
     "text": [
      "1\n",
      "├── 2\n",
      "│   ├── 4\n",
      "│   │   ├── 7\n",
      "│   │   └── 8\n",
      "│   └── 5\n",
      "└── 3\n",
      "    └── 6\n",
      "        ├── 10\n",
      "        │   └── 13\n",
      "        │       └── 14\n",
      "        │           └── 15\n",
      "        └── 9\n",
      "            ├── 11\n",
      "            └── 12\n",
      "\n"
     ]
    }
   ],
   "source": [
    "from treelib import Node, Tree\n",
    "\n",
    "# Create tree and add root node\n",
    "tree = Tree()\n",
    "tree.create_node(\"1\", \"1\") \n",
    "\n",
    "# Add child nodes\n",
    "tree.create_node(\"2\", \"2\", parent=\"1\")\n",
    "tree.create_node(\"3\", \"3\", parent=\"1\")\n",
    "tree.create_node(\"4\", \"4\", parent=\"2\")\n",
    "tree.create_node(\"5\", \"5\", parent=\"2\")\n",
    "tree.create_node(\"6\", \"6\", parent=\"3\")\n",
    "tree.create_node(\"7\", \"7\", parent=\"4\")\n",
    "tree.create_node(\"8\", \"8\", parent=\"4\")\n",
    "tree.create_node(\"9\", \"9\", parent=\"6\")\n",
    "tree.create_node(\"10\", \"10\", parent=\"6\")\n",
    "tree.create_node(\"11\", \"11\", parent=\"9\")\n",
    "tree.create_node(\"12\", \"12\", parent=\"9\")\n",
    "tree.create_node(\"13\", \"13\", parent=\"10\")\n",
    "tree.create_node(\"14\", \"14\", parent=\"13\")\n",
    "tree.create_node(\"15\", \"15\", parent=\"14\")\n",
    "\n",
    "# Display tree\n",
    "tree.show()\n"
   ]
  },
  {
   "cell_type": "code",
   "execution_count": 41,
   "id": "9120f0c7",
   "metadata": {},
   "outputs": [
    {
     "data": {
      "text/plain": [
       "'binary_tree.png'"
      ]
     },
     "execution_count": 41,
     "metadata": {},
     "output_type": "execute_result"
    }
   ],
   "source": [
    "from graphviz import Digraph\n",
    "\n",
    "# Create graph\n",
    "dot = Digraph()\n",
    "\n",
    "# Add nodes\n",
    "dot.node(\"1\", \"1\")\n",
    "dot.node(\"2\", \"2\")\n",
    "dot.node(\"3\", \"3\")\n",
    "dot.node(\"4\", \"4\")\n",
    "dot.node(\"5\", \"5\")\n",
    "dot.node(\"6\", \"6\")\n",
    "dot.node(\"7\", \"7\")\n",
    "dot.node(\"8\", \"8\")\n",
    "dot.node(\"9\", \"9\")\n",
    "dot.node(\"10\", \"10\")\n",
    "dot.node(\"11\", \"11\")\n",
    "dot.node(\"12\", \"12\")\n",
    "dot.node(\"13\", \"13\")\n",
    "dot.node(\"14\", \"14\")\n",
    "dot.node(\"15\", \"15\")\n",
    "\n",
    "# Add edges\n",
    "dot.edge(\"1\", \"2\")\n",
    "dot.edge(\"1\", \"3\")\n",
    "dot.edge(\"2\", \"4\")\n",
    "dot.edge(\"2\", \"5\")\n",
    "dot.edge(\"3\", \"6\")\n",
    "dot.edge(\"4\", \"7\")\n",
    "dot.edge(\"4\", \"8\")\n",
    "dot.edge(\"6\", \"9\")\n",
    "dot.edge(\"6\", \"10\")\n",
    "dot.edge(\"9\", \"11\")\n",
    "dot.edge(\"9\", \"12\")\n",
    "dot.edge(\"10\", \"13\")\n",
    "dot.edge(\"13\", \"14\")\n",
    "dot.edge(\"14\", \"15\")\n",
    "\n",
    "# Render graph\n",
    "dot.render(\"binary_tree\", format=\"png\", view=True)"
   ]
  },
  {
   "cell_type": "code",
   "execution_count": 42,
   "id": "606e8aa0",
   "metadata": {},
   "outputs": [],
   "source": [
    "import turtle\n",
    "\n",
    "# Define a function to draw a binary tree recursively\n",
    "def draw_tree(t, level, x, y):\n",
    "    if level > 0:\n",
    "        # Draw left child\n",
    "        t.penup()\n",
    "        t.goto(x, y)\n",
    "        t.pendown()\n",
    "        t.goto(x - 100/(2**level), y - 50)\n",
    "        draw_tree(t, level - 1, x - 100/(2**level), y - 50)\n",
    "        \n",
    "        # Draw right child\n",
    "        t.penup()\n",
    "        t.goto(x, y)\n",
    "        t.pendown()\n",
    "        t.goto(x + 100/(2**level), y - 50)\n",
    "        draw_tree(t, level - 1, x + 100/(2**level), y - 50)\n",
    "    \n",
    "    # Draw node\n",
    "    t.penup()\n",
    "    t.goto(x, y)\n",
    "    t.pendown()\n",
    "    t.circle(20)\n",
    "    t.write(str(level), align=\"center\", font=(\"Arial\", 12, \"normal\"))\n",
    "\n",
    "# Create turtle object\n",
    "t = turtle.Turtle()\n",
    "\n",
    "# Set turtle properties\n",
    "t.speed(0)\n",
    "turtle.bgcolor(\"white\")\n",
    "t.color(\"black\")\n",
    "\n",
    "# Draw tree\n",
    "draw_tree(t, 4, 0, 200)\n",
    "\n",
    "# Exit on click\n",
    "turtle.exitonclick()"
   ]
  },
  {
   "cell_type": "markdown",
   "id": "482c5421",
   "metadata": {},
   "source": [
    "# Task 4"
   ]
  },
  {
   "cell_type": "code",
   "execution_count": 47,
   "id": "a905f147",
   "metadata": {},
   "outputs": [
    {
     "name": "stdout",
     "output_type": "stream",
     "text": [
      "['S', 'B', 'D', 'E']\n"
     ]
    }
   ],
   "source": [
    "from queue import PriorityQueue\n",
    "\n",
    "# Graph representation as dictionary\n",
    "graph = {\n",
    "    'S': [('A', 2), ('B', 1)],\n",
    "    'A': [('S', 2), ('B', 2), ('C', 3)],\n",
    "    'B': [('S', 1), ('A', 2), ('D', 4)],\n",
    "    'C': [('A', 3), ('D', 2)],\n",
    "    'D': [('B', 4), ('C', 2), ('E', 3)],\n",
    "    'E': [('D', 3)]\n",
    "}\n",
    "\n",
    "def ucs(start, goal):\n",
    "    frontier = PriorityQueue()\n",
    "    frontier.put((0, start))\n",
    "    explored = set()\n",
    "    path = {}\n",
    "    cost = {}\n",
    "    path[start] = None\n",
    "    cost[start] = 0\n",
    "    \n",
    "    while not frontier.empty():\n",
    "        current_cost, current_node = frontier.get()\n",
    "        \n",
    "        if current_node == goal:\n",
    "            # Goal found, backtrack to find path\n",
    "            p = []\n",
    "            while current_node is not None:\n",
    "                p.append(current_node)\n",
    "                current_node = path[current_node]\n",
    "            return p[::-1]\n",
    "        \n",
    "        explored.add(current_node)\n",
    "        \n",
    "        for neighbor, neighbor_cost in graph[current_node]:\n",
    "            if neighbor not in explored and neighbor not in cost or cost[current_node] + neighbor_cost < cost[neighbor]:\n",
    "                cost[neighbor] = cost[current_node] + neighbor_cost\n",
    "                priority = cost[neighbor]\n",
    "                frontier.put((priority, neighbor))\n",
    "                path[neighbor] = current_node\n",
    "    \n",
    "    # Goal not found\n",
    "    return None\n",
    "\n",
    "# Example usage\n",
    "path = ucs('S', 'E')\n",
    "print(path)\n"
   ]
  },
  {
   "cell_type": "code",
   "execution_count": 48,
   "id": "4b716b74",
   "metadata": {},
   "outputs": [
    {
     "name": "stdout",
     "output_type": "stream",
     "text": [
      "[1, 2, 4]\n"
     ]
    }
   ],
   "source": [
    "graph = {\n",
    "    1: [(2,1), (3,1)],\n",
    "    2: [(1,1), (4,1)],\n",
    "    3: [(1,1), (4,1)],\n",
    "    4: [(2,1), (3,1)]\n",
    "}\n",
    "path = ucs(1,4)\n",
    "print(path)"
   ]
  },
  {
   "cell_type": "code",
   "execution_count": 55,
   "id": "f1d684ef",
   "metadata": {},
   "outputs": [
    {
     "name": "stdout",
     "output_type": "stream",
     "text": [
      "Minimum path: ['Arad', 'Sibiu', 'Rimnicu', 'Pitesti', 'Bucharest']\n",
      "Total cost: 418\n"
     ]
    }
   ],
   "source": [
    "from queue import PriorityQueue\n",
    "\n",
    "graph = {\n",
    "    'Arad': {'Zerind': 75, 'Sibiu': 140, 'Timisoara': 118},\n",
    "    'Zerind': {'Arad': 75, 'Oradea': 71},\n",
    "    'Oradea': {'Zerind': 71, 'Sibiu': 151},\n",
    "    'Sibiu': {'Arad': 140, 'Oradea': 151, 'Fagaras': 99, 'Rimnicu': 80},\n",
    "    'Fagaras': {'Sibiu': 99, 'Bucharest': 211},\n",
    "    'Rimnicu': {'Sibiu': 80, 'Pitesti': 97, 'Craiova': 146},\n",
    "    'Timisoara': {'Arad': 118, 'Lugoj': 111},\n",
    "    'Lugoj': {'Timisoara': 111, 'Mehadia': 70},\n",
    "    'Mehadia': {'Lugoj': 70, 'Drobeta': 75},\n",
    "    'Drobeta': {'Mehadia': 75, 'Craiova': 120},\n",
    "    'Craiova': {'Drobeta': 120, 'Rimnicu': 146, 'Pitesti': 138},\n",
    "    'Pitesti': {'Craiova': 138, 'Rimnicu': 97, 'Bucharest': 101},\n",
    "    'Bucharest': {'Fagaras': 211, 'Pitesti': 101, 'Giurgiu': 90, 'Urziceni': 85},\n",
    "    'Giurgiu': {'Bucharest': 90},\n",
    "    'Urziceni': {'Bucharest': 85, 'Hirsova': 98, 'Vaslui': 142},\n",
    "    'Hirsova': {'Urziceni': 98, 'Eforie': 86},\n",
    "    'Eforie': {'Hirsova': 86},\n",
    "    'Vaslui': {'Urziceni': 142, 'Iasi': 92},\n",
    "    'Iasi': {'Vaslui': 92, 'Neamt': 87},\n",
    "    'Neamt': {'Iasi': 87}\n",
    "}\n",
    "\n",
    "def ucs(graph, start, goal):\n",
    "    frontier = PriorityQueue()\n",
    "    frontier.put((0, start))  # put starting node in the frontier with a cost of 0\n",
    "    came_from = {}  # to keep track of the path\n",
    "    cost_so_far = {}  # to keep track of the cost to reach each node\n",
    "    came_from[start] = None\n",
    "    cost_so_far[start] = 0\n",
    "    \n",
    "    while not frontier.empty():\n",
    "        current = frontier.get()[1]  # get node with the lowest cost from the frontier\n",
    "        \n",
    "        if current == goal:  # if goal node is reached, return the path\n",
    "            path = []\n",
    "            while current != start:\n",
    "                path.append(current)\n",
    "                current = came_from[current]\n",
    "            path.append(start)\n",
    "            path.reverse()\n",
    "            return path, cost_so_far[goal]\n",
    "        \n",
    "        # explore the neighbors of the current node\n",
    "        for neighbor, cost in graph[current].items():\n",
    "            new_cost = cost_so_far[current] + cost\n",
    "            \n",
    "            # if neighbor is not yet explored or the new path has a lower cost\n",
    "            if neighbor not in cost_so_far or new_cost < cost_so_far[neighbor]:\n",
    "                cost_so_far[neighbor] = new_cost\n",
    "                priority = new_cost\n",
    "                frontier.put((priority, neighbor))\n",
    "                came_from[neighbor] = current\n",
    "    \n",
    "    # if goal node is not reachable from start node, return None\n",
    "    return None\n",
    "\n",
    "\n",
    "# Define the start and goal nodes\n",
    "start_node = 'Arad'\n",
    "goal_node = 'Bucharest'\n",
    "\n",
    "# Find the minimum path using UCS\n",
    "path, total_cost = ucs(graph, start_node, goal_node)\n",
    "\n",
    "# Print the minimum path and total cost\n",
    "print(\"Minimum path:\", path)\n",
    "print(\"Total cost:\", total_cost)"
   ]
  },
  {
   "cell_type": "markdown",
   "id": "87cd9c5d",
   "metadata": {},
   "source": [
    "# Task 5 "
   ]
  },
  {
   "cell_type": "code",
   "execution_count": 56,
   "id": "3478ec2e",
   "metadata": {},
   "outputs": [
    {
     "data": {
      "image/png": "[encoded data removed]",
      "text/plain": [
       "<Figure size 640x480 with 1 Axes>"
      ]
     },
     "metadata": {},
     "output_type": "display_data"
    }
   ],
   "source": [
    "import networkx as nx\n",
    "import matplotlib.pyplot as plt\n",
    "\n",
    "# define the graph\n",
    "graph = {\n",
    "    'S': {'A':2, 'B':1},\n",
    "    'A': {'S':2, 'B':2, 'C':3},\n",
    "    'B': {'S':1, 'A':2, 'D':4},\n",
    "    'C': {'A':3, 'D':2},\n",
    "    'D': {'B':4, 'C':2, 'E':3},\n",
    "    'E': {'D':3}\n",
    "}\n",
    "\n",
    "# define the start and goal nodes\n",
    "start = 'S'\n",
    "goal = 'E'\n",
    "\n",
    "# define the UCS function\n",
    "def ucs(graph, start, goal):\n",
    "    # initialize the queue with the start node and its cost\n",
    "    queue = [(start, 0)]\n",
    "    # initialize the visited set\n",
    "    visited = set()\n",
    "    # initialize the parent dictionary to keep track of the path\n",
    "    parent = {start: None}\n",
    "    \n",
    "    while queue:\n",
    "        # get the node with the lowest cost from the queue\n",
    "        node, cost = sorted(queue, key=lambda x: x[1])[0]\n",
    "        queue.remove((node, cost))\n",
    "        \n",
    "        # check if we have reached the goal node\n",
    "        if node == goal:\n",
    "            path = []\n",
    "            while node is not None:\n",
    "                path.append(node)\n",
    "                node = parent[node]\n",
    "            return path[::-1]\n",
    "        \n",
    "        # mark the node as visited\n",
    "        visited.add(node)\n",
    "        \n",
    "        # expand the node\n",
    "        for neighbor, neighbor_cost in graph[node].items():\n",
    "            # calculate the new cost to get to the neighbor node\n",
    "            new_cost = cost + neighbor_cost\n",
    "            # check if we have visited the neighbor node before\n",
    "            if neighbor not in visited:\n",
    "                # check if the neighbor node is already in the queue\n",
    "                for i, (queue_node, queue_cost) in enumerate(queue):\n",
    "                    if queue_node == neighbor:\n",
    "                        # update the cost if the new cost is lower than the old cost\n",
    "                        if new_cost < queue_cost:\n",
    "                            queue[i] = (neighbor, new_cost)\n",
    "                            parent[neighbor] = node\n",
    "                        break\n",
    "                else:\n",
    "                    # add the neighbor node to the queue\n",
    "                    queue.append((neighbor, new_cost))\n",
    "                    parent[neighbor] = node\n",
    "    \n",
    "    return None\n",
    "\n",
    "# run the UCS algorithm\n",
    "path = ucs(graph, start, goal)\n",
    "\n",
    "# visualize the graph and the path\n",
    "G = nx.Graph()\n",
    "G.add_edges_from([(a, b, {'weight': w}) for a in graph for b, w in graph[a].items()])\n",
    "pos = nx.spring_layout(G)\n",
    "nx.draw_networkx_nodes(G, pos, node_color='lightblue', node_size=500)\n",
    "nx.draw_networkx_edges(G, pos, edge_color='gray', width=1)\n",
    "nx.draw_networkx_labels(G, pos, font_size=20, font_family='sans-serif')\n",
    "if path is not None:\n",
    "    path_edges = [(path[i], path[i+1]) for i in range(len(path)-1)]\n",
    "    nx.draw_networkx_edges(G, pos, edgelist=path_edges, edge_color='red', width=3)\n",
    "plt.axis('off')\n",
    "plt.show()"
   ]
  },
  {
   "cell_type": "code",
   "execution_count": 59,
   "id": "27e17a16",
   "metadata": {
    "scrolled": true
   },
   "outputs": [
    {
     "data": {
      "image/png": "[encoded data removed]",
      "text/plain": [
       "<Figure size 640x480 with 1 Axes>"
      ]
     },
     "metadata": {},
     "output_type": "display_data"
    }
   ],
   "source": [
    "import networkx as nx\n",
    "import matplotlib.pyplot as plt\n",
    "\n",
    "# Define nodes\n",
    "nodes = ['Arad', 'Zerind', 'Oradea', 'Sibiu', 'Timisoara', 'Lugoj', 'Mehadia', \n",
    "         'Drobeta', 'Craiova', 'Rimnicu Vilcea', 'Pitesti', 'Fagaras', 'Bucharest', \n",
    "         'Giurgiu', 'Urziceni', 'Hirsova', 'Eforie']\n",
    "\n",
    "# Define edges\n",
    "edges = [('Arad', 'Zerind', 75), ('Arad', 'Sibiu', 140), ('Arad', 'Timisoara', 118),\n",
    "         ('Zerind', 'Oradea', 71), ('Oradea', 'Sibiu', 151), ('Timisoara', 'Lugoj', 111),\n",
    "         ('Lugoj', 'Mehadia', 70), ('Mehadia', 'Drobeta', 75), ('Drobeta', 'Craiova', 120),\n",
    "         ('Craiova', 'Rimnicu Vilcea', 146), ('Craiova', 'Pitesti', 138), ('Rimnicu Vilcea', 'Sibiu', 80),\n",
    "         ('Pitesti', 'Bucharest', 101), ('Fagaras', 'Sibiu', 99), ('Fagaras', 'Bucharest', 211),\n",
    "         ('Bucharest', 'Giurgiu', 90), ('Bucharest', 'Urziceni', 85), ('Urziceni', 'Hirsova', 98),\n",
    "         ('Hirsova', 'Eforie', 86), ('Urziceni', 'Vaslui', 142), ('Vaslui', 'Iasi', 92),\n",
    "         ('Iasi', 'Neamt', 87)]\n",
    "\n",
    "# Define positions for nodes\n",
    "pos = {'Arad': (180, 520), 'Zerind': (80, 460), 'Oradea': (120, 380), 'Sibiu': (260, 400),\n",
    "       'Timisoara': (50, 580), 'Lugoj': (110, 520), 'Mehadia': (150, 610), 'Drobeta': (220, 690),\n",
    "       'Craiova': (280, 610), 'Rimnicu Vilcea': (360, 510), 'Pitesti': (430, 610), 'Fagaras': (320, 330),\n",
    "       'Bucharest': (540, 590), 'Giurgiu': (490, 490), 'Urziceni': (630, 520), 'Hirsova': (740, 530),\n",
    "       'Eforie': (810, 550), 'Vaslui': (740, 410), 'Iasi': (830, 350), 'Neamt': (940, 290)}\n",
    "\n",
    "# Create graph object\n",
    "G = nx.Graph()\n",
    "\n",
    "# Add nodes to the graph\n",
    "for node in nodes:\n",
    "    G.add_node(node)\n",
    "\n",
    "# Add edges to the graph\n",
    "for edge in edges:\n",
    "    G.add_edge(edge[0], edge[1], weight=edge[2])\n",
    "\n",
    "# Draw the graph\n",
    "nx.draw_networkx(G, pos, with_labels=True, font_size=10, node_size=500)\n",
    "\n",
    "# Draw edge labels\n",
    "labels = nx.get_edge_attributes(G, 'weight')\n",
    "nx.draw_networkx_edge_labels(G, pos, edge_labels=labels, font_size=8, font_weight='bold')\n",
    "\n",
    "# Show graph\n",
    "plt.show()"
   ]
  },
  {
   "cell_type": "markdown",
   "id": "f7dda107",
   "metadata": {},
   "source": [
    "# Task 6"
   ]
  },
  {
   "cell_type": "code",
   "execution_count": 67,
   "id": "48a7a587",
   "metadata": {},
   "outputs": [
    {
     "name": "stdout",
     "output_type": "stream",
     "text": [
      "BFS Solution:  [0, 4, 7, 5, 2, 6, 1, 3]\n",
      "UCS Solution:  [0, 4, 7, 5, 2, 6, 1, 3]\n"
     ]
    }
   ],
   "source": [
    "from queue import Queue, PriorityQueue\n",
    "from copy import deepcopy\n",
    "\n",
    "# Check if a queen can be placed at position (row, col)\n",
    "def is_valid(board, row, col):\n",
    "    for i in range(row):\n",
    "        if board[i] == col or \\\n",
    "           board[i] - i == col - row or \\\n",
    "           board[i] + i == col + row:\n",
    "            return False\n",
    "    return True\n",
    "\n",
    "# BFS implementation\n",
    "def bfs(n):\n",
    "    q = Queue()\n",
    "    q.put([])\n",
    "    while not q.empty():\n",
    "        board = q.get()\n",
    "        if len(board) == n:\n",
    "            return board\n",
    "        for i in range(n):\n",
    "            if is_valid(board, len(board), i):\n",
    "                q.put(board + [i])\n",
    "\n",
    "# UCS implementation\n",
    "def ucs(n):\n",
    "    pq = PriorityQueue()\n",
    "    pq.put((0, []))\n",
    "    while not pq.empty():\n",
    "        cost, board = pq.get()\n",
    "        if len(board) == n:\n",
    "            return board\n",
    "        for i in range(n):\n",
    "            if is_valid(board, len(board), i):\n",
    "                new_board = deepcopy(board)\n",
    "                new_board.append(i)\n",
    "                pq.put((cost + 1, new_board))\n",
    "\n",
    "# Test the algorithms\n",
    "n = 8\n",
    "bfs_solution = bfs(n)\n",
    "ucs_solution = ucs(n)\n",
    "print(\"BFS Solution: \", bfs_solution)\n",
    "print(\"UCS Solution: \", ucs_solution)\n"
   ]
  },
  {
   "cell_type": "code",
   "execution_count": null,
   "id": "634717f9",
   "metadata": {},
   "outputs": [],
   "source": []
  }
 ],
 "metadata": {
  "kernelspec": {
   "display_name": "Python 3 (ipykernel)",
   "language": "python",
   "name": "python3"
  },
  "language_info": {
   "codemirror_mode": {
    "name": "ipython",
    "version": 3
   },
   "file_extension": ".py",
   "mimetype": "text/x-python",
   "name": "python",
   "nbconvert_exporter": "python",
   "pygments_lexer": "ipython3",
   "version": "3.9.7"
  }
 },
 "nbformat": 4,
 "nbformat_minor": 5
}
